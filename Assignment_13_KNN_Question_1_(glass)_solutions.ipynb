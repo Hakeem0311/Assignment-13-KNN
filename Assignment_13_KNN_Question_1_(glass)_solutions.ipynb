{
  "nbformat": 4,
  "nbformat_minor": 0,
  "metadata": {
    "colab": {
      "provenance": []
    },
    "kernelspec": {
      "name": "python3",
      "display_name": "Python 3"
    },
    "language_info": {
      "name": "python"
    }
  },
  "cells": [
    {
      "cell_type": "markdown",
      "source": [
        "# Assignment 13\n"
      ],
      "metadata": {
        "id": "DXs-Yx1GHPCR"
      }
    },
    {
      "cell_type": "markdown",
      "source": [
        "# Question 1\n"
      ],
      "metadata": {
        "id": "97YcKBk1HYim"
      }
    },
    {
      "cell_type": "code",
      "execution_count": 1,
      "metadata": {
        "id": "HBUSBDXjGugs"
      },
      "outputs": [],
      "source": [
        "import numpy as np\n",
        "import pandas as pd\n",
        "import seaborn as sns\n",
        "import matplotlib.pyplot as plt\n",
        "from sklearn.neighbors import KNeighborsClassifier\n",
        "from sklearn.model_selection import train_test_split\n",
        "from sklearn.metrics import accuracy_score\n",
        "from sklearn.model_selection import cross_val_score\n",
        "import warnings\n",
        "warnings.filterwarnings('ignore')"
      ]
    },
    {
      "cell_type": "markdown",
      "source": [
        "# 1 - Business Problem\n"
      ],
      "metadata": {
        "id": "C0XlhA6zHfWV"
      }
    },
    {
      "cell_type": "markdown",
      "source": [
        "___Prepare a model for glass classification using KNN___\n",
        "\n"
      ],
      "metadata": {
        "id": "0T9ojfgKHj4F"
      }
    },
    {
      "cell_type": "markdown",
      "source": [
        "# 2 - Data collection and description\n"
      ],
      "metadata": {
        "id": "9c0hn7_oHmiL"
      }
    },
    {
      "cell_type": "code",
      "source": [
        "df = pd.read_csv(\"glass.csv\")\n"
      ],
      "metadata": {
        "id": "2AGsEcVpHdEX"
      },
      "execution_count": 2,
      "outputs": []
    },
    {
      "cell_type": "code",
      "source": [
        "df1 = df.copy()\n"
      ],
      "metadata": {
        "id": "gmf5LIlkHqnV"
      },
      "execution_count": 3,
      "outputs": []
    },
    {
      "cell_type": "code",
      "source": [
        "df1.loc[df['Type'] == 1, 'Type'] = 'building_windows_float_processed'\n",
        "df1.loc[df['Type'] == 2, 'Type'] = 'building_windows_non_float_processed' \n",
        "df1.loc[df['Type'] == 3, 'Type'] = 'vehicle_windows_float_processed' \n",
        "df1.loc[df['Type'] == 4, 'Type'] = 'vehicle_windows_non_float_processed' \n",
        "df1.loc[df['Type'] == 5, 'Type'] = 'containers' \n",
        "df1.loc[df['Type'] == 6, 'Type'] = 'tableware' \n",
        "df1.loc[df['Type'] == 7, 'Type'] = 'headlamps' "
      ],
      "metadata": {
        "id": "ZVWhiFF3HsrE"
      },
      "execution_count": 4,
      "outputs": []
    },
    {
      "cell_type": "code",
      "source": [
        "df1.head()\n"
      ],
      "metadata": {
        "colab": {
          "base_uri": "https://localhost:8080/",
          "height": 206
        },
        "id": "v_dL3CySHwQ0",
        "outputId": "175cde07-361c-42b6-ddc3-a17039e46e6b"
      },
      "execution_count": 5,
      "outputs": [
        {
          "output_type": "execute_result",
          "data": {
            "text/plain": [
              "        RI     Na    Mg    Al     Si     K    Ca   Ba   Fe  \\\n",
              "0  1.52101  13.64  4.49  1.10  71.78  0.06  8.75  0.0  0.0   \n",
              "1  1.51761  13.89  3.60  1.36  72.73  0.48  7.83  0.0  0.0   \n",
              "2  1.51618  13.53  3.55  1.54  72.99  0.39  7.78  0.0  0.0   \n",
              "3  1.51766  13.21  3.69  1.29  72.61  0.57  8.22  0.0  0.0   \n",
              "4  1.51742  13.27  3.62  1.24  73.08  0.55  8.07  0.0  0.0   \n",
              "\n",
              "                               Type  \n",
              "0  building_windows_float_processed  \n",
              "1  building_windows_float_processed  \n",
              "2  building_windows_float_processed  \n",
              "3  building_windows_float_processed  \n",
              "4  building_windows_float_processed  "
            ],
            "text/html": [
              "\n",
              "  <div id=\"df-9b0f1e45-d76e-497f-988c-7eef6de6c5f3\">\n",
              "    <div class=\"colab-df-container\">\n",
              "      <div>\n",
              "<style scoped>\n",
              "    .dataframe tbody tr th:only-of-type {\n",
              "        vertical-align: middle;\n",
              "    }\n",
              "\n",
              "    .dataframe tbody tr th {\n",
              "        vertical-align: top;\n",
              "    }\n",
              "\n",
              "    .dataframe thead th {\n",
              "        text-align: right;\n",
              "    }\n",
              "</style>\n",
              "<table border=\"1\" class=\"dataframe\">\n",
              "  <thead>\n",
              "    <tr style=\"text-align: right;\">\n",
              "      <th></th>\n",
              "      <th>RI</th>\n",
              "      <th>Na</th>\n",
              "      <th>Mg</th>\n",
              "      <th>Al</th>\n",
              "      <th>Si</th>\n",
              "      <th>K</th>\n",
              "      <th>Ca</th>\n",
              "      <th>Ba</th>\n",
              "      <th>Fe</th>\n",
              "      <th>Type</th>\n",
              "    </tr>\n",
              "  </thead>\n",
              "  <tbody>\n",
              "    <tr>\n",
              "      <th>0</th>\n",
              "      <td>1.52101</td>\n",
              "      <td>13.64</td>\n",
              "      <td>4.49</td>\n",
              "      <td>1.10</td>\n",
              "      <td>71.78</td>\n",
              "      <td>0.06</td>\n",
              "      <td>8.75</td>\n",
              "      <td>0.0</td>\n",
              "      <td>0.0</td>\n",
              "      <td>building_windows_float_processed</td>\n",
              "    </tr>\n",
              "    <tr>\n",
              "      <th>1</th>\n",
              "      <td>1.51761</td>\n",
              "      <td>13.89</td>\n",
              "      <td>3.60</td>\n",
              "      <td>1.36</td>\n",
              "      <td>72.73</td>\n",
              "      <td>0.48</td>\n",
              "      <td>7.83</td>\n",
              "      <td>0.0</td>\n",
              "      <td>0.0</td>\n",
              "      <td>building_windows_float_processed</td>\n",
              "    </tr>\n",
              "    <tr>\n",
              "      <th>2</th>\n",
              "      <td>1.51618</td>\n",
              "      <td>13.53</td>\n",
              "      <td>3.55</td>\n",
              "      <td>1.54</td>\n",
              "      <td>72.99</td>\n",
              "      <td>0.39</td>\n",
              "      <td>7.78</td>\n",
              "      <td>0.0</td>\n",
              "      <td>0.0</td>\n",
              "      <td>building_windows_float_processed</td>\n",
              "    </tr>\n",
              "    <tr>\n",
              "      <th>3</th>\n",
              "      <td>1.51766</td>\n",
              "      <td>13.21</td>\n",
              "      <td>3.69</td>\n",
              "      <td>1.29</td>\n",
              "      <td>72.61</td>\n",
              "      <td>0.57</td>\n",
              "      <td>8.22</td>\n",
              "      <td>0.0</td>\n",
              "      <td>0.0</td>\n",
              "      <td>building_windows_float_processed</td>\n",
              "    </tr>\n",
              "    <tr>\n",
              "      <th>4</th>\n",
              "      <td>1.51742</td>\n",
              "      <td>13.27</td>\n",
              "      <td>3.62</td>\n",
              "      <td>1.24</td>\n",
              "      <td>73.08</td>\n",
              "      <td>0.55</td>\n",
              "      <td>8.07</td>\n",
              "      <td>0.0</td>\n",
              "      <td>0.0</td>\n",
              "      <td>building_windows_float_processed</td>\n",
              "    </tr>\n",
              "  </tbody>\n",
              "</table>\n",
              "</div>\n",
              "      <button class=\"colab-df-convert\" onclick=\"convertToInteractive('df-9b0f1e45-d76e-497f-988c-7eef6de6c5f3')\"\n",
              "              title=\"Convert this dataframe to an interactive table.\"\n",
              "              style=\"display:none;\">\n",
              "        \n",
              "  <svg xmlns=\"http://www.w3.org/2000/svg\" height=\"24px\"viewBox=\"0 0 24 24\"\n",
              "       width=\"24px\">\n",
              "    <path d=\"M0 0h24v24H0V0z\" fill=\"none\"/>\n",
              "    <path d=\"M18.56 5.44l.94 2.06.94-2.06 2.06-.94-2.06-.94-.94-2.06-.94 2.06-2.06.94zm-11 1L8.5 8.5l.94-2.06 2.06-.94-2.06-.94L8.5 2.5l-.94 2.06-2.06.94zm10 10l.94 2.06.94-2.06 2.06-.94-2.06-.94-.94-2.06-.94 2.06-2.06.94z\"/><path d=\"M17.41 7.96l-1.37-1.37c-.4-.4-.92-.59-1.43-.59-.52 0-1.04.2-1.43.59L10.3 9.45l-7.72 7.72c-.78.78-.78 2.05 0 2.83L4 21.41c.39.39.9.59 1.41.59.51 0 1.02-.2 1.41-.59l7.78-7.78 2.81-2.81c.8-.78.8-2.07 0-2.86zM5.41 20L4 18.59l7.72-7.72 1.47 1.35L5.41 20z\"/>\n",
              "  </svg>\n",
              "      </button>\n",
              "      \n",
              "  <style>\n",
              "    .colab-df-container {\n",
              "      display:flex;\n",
              "      flex-wrap:wrap;\n",
              "      gap: 12px;\n",
              "    }\n",
              "\n",
              "    .colab-df-convert {\n",
              "      background-color: #E8F0FE;\n",
              "      border: none;\n",
              "      border-radius: 50%;\n",
              "      cursor: pointer;\n",
              "      display: none;\n",
              "      fill: #1967D2;\n",
              "      height: 32px;\n",
              "      padding: 0 0 0 0;\n",
              "      width: 32px;\n",
              "    }\n",
              "\n",
              "    .colab-df-convert:hover {\n",
              "      background-color: #E2EBFA;\n",
              "      box-shadow: 0px 1px 2px rgba(60, 64, 67, 0.3), 0px 1px 3px 1px rgba(60, 64, 67, 0.15);\n",
              "      fill: #174EA6;\n",
              "    }\n",
              "\n",
              "    [theme=dark] .colab-df-convert {\n",
              "      background-color: #3B4455;\n",
              "      fill: #D2E3FC;\n",
              "    }\n",
              "\n",
              "    [theme=dark] .colab-df-convert:hover {\n",
              "      background-color: #434B5C;\n",
              "      box-shadow: 0px 1px 3px 1px rgba(0, 0, 0, 0.15);\n",
              "      filter: drop-shadow(0px 1px 2px rgba(0, 0, 0, 0.3));\n",
              "      fill: #FFFFFF;\n",
              "    }\n",
              "  </style>\n",
              "\n",
              "      <script>\n",
              "        const buttonEl =\n",
              "          document.querySelector('#df-9b0f1e45-d76e-497f-988c-7eef6de6c5f3 button.colab-df-convert');\n",
              "        buttonEl.style.display =\n",
              "          google.colab.kernel.accessAllowed ? 'block' : 'none';\n",
              "\n",
              "        async function convertToInteractive(key) {\n",
              "          const element = document.querySelector('#df-9b0f1e45-d76e-497f-988c-7eef6de6c5f3');\n",
              "          const dataTable =\n",
              "            await google.colab.kernel.invokeFunction('convertToInteractive',\n",
              "                                                     [key], {});\n",
              "          if (!dataTable) return;\n",
              "\n",
              "          const docLinkHtml = 'Like what you see? Visit the ' +\n",
              "            '<a target=\"_blank\" href=https://colab.research.google.com/notebooks/data_table.ipynb>data table notebook</a>'\n",
              "            + ' to learn more about interactive tables.';\n",
              "          element.innerHTML = '';\n",
              "          dataTable['output_type'] = 'display_data';\n",
              "          await google.colab.output.renderOutput(dataTable, element);\n",
              "          const docLink = document.createElement('div');\n",
              "          docLink.innerHTML = docLinkHtml;\n",
              "          element.appendChild(docLink);\n",
              "        }\n",
              "      </script>\n",
              "    </div>\n",
              "  </div>\n",
              "  "
            ]
          },
          "metadata": {},
          "execution_count": 5
        }
      ]
    },
    {
      "cell_type": "code",
      "source": [
        "df1.describe()\n"
      ],
      "metadata": {
        "colab": {
          "base_uri": "https://localhost:8080/",
          "height": 300
        },
        "id": "Ek-CHvz0H0Ik",
        "outputId": "fe3a20d5-502f-4d13-c32a-d8c8771c4e6a"
      },
      "execution_count": 6,
      "outputs": [
        {
          "output_type": "execute_result",
          "data": {
            "text/plain": [
              "               RI          Na          Mg          Al          Si           K  \\\n",
              "count  214.000000  214.000000  214.000000  214.000000  214.000000  214.000000   \n",
              "mean     1.518365   13.407850    2.684533    1.444907   72.650935    0.497056   \n",
              "std      0.003037    0.816604    1.442408    0.499270    0.774546    0.652192   \n",
              "min      1.511150   10.730000    0.000000    0.290000   69.810000    0.000000   \n",
              "25%      1.516522   12.907500    2.115000    1.190000   72.280000    0.122500   \n",
              "50%      1.517680   13.300000    3.480000    1.360000   72.790000    0.555000   \n",
              "75%      1.519157   13.825000    3.600000    1.630000   73.087500    0.610000   \n",
              "max      1.533930   17.380000    4.490000    3.500000   75.410000    6.210000   \n",
              "\n",
              "               Ca          Ba          Fe  \n",
              "count  214.000000  214.000000  214.000000  \n",
              "mean     8.956963    0.175047    0.057009  \n",
              "std      1.423153    0.497219    0.097439  \n",
              "min      5.430000    0.000000    0.000000  \n",
              "25%      8.240000    0.000000    0.000000  \n",
              "50%      8.600000    0.000000    0.000000  \n",
              "75%      9.172500    0.000000    0.100000  \n",
              "max     16.190000    3.150000    0.510000  "
            ],
            "text/html": [
              "\n",
              "  <div id=\"df-f639b4e2-80be-44de-a8b6-f7885610b167\">\n",
              "    <div class=\"colab-df-container\">\n",
              "      <div>\n",
              "<style scoped>\n",
              "    .dataframe tbody tr th:only-of-type {\n",
              "        vertical-align: middle;\n",
              "    }\n",
              "\n",
              "    .dataframe tbody tr th {\n",
              "        vertical-align: top;\n",
              "    }\n",
              "\n",
              "    .dataframe thead th {\n",
              "        text-align: right;\n",
              "    }\n",
              "</style>\n",
              "<table border=\"1\" class=\"dataframe\">\n",
              "  <thead>\n",
              "    <tr style=\"text-align: right;\">\n",
              "      <th></th>\n",
              "      <th>RI</th>\n",
              "      <th>Na</th>\n",
              "      <th>Mg</th>\n",
              "      <th>Al</th>\n",
              "      <th>Si</th>\n",
              "      <th>K</th>\n",
              "      <th>Ca</th>\n",
              "      <th>Ba</th>\n",
              "      <th>Fe</th>\n",
              "    </tr>\n",
              "  </thead>\n",
              "  <tbody>\n",
              "    <tr>\n",
              "      <th>count</th>\n",
              "      <td>214.000000</td>\n",
              "      <td>214.000000</td>\n",
              "      <td>214.000000</td>\n",
              "      <td>214.000000</td>\n",
              "      <td>214.000000</td>\n",
              "      <td>214.000000</td>\n",
              "      <td>214.000000</td>\n",
              "      <td>214.000000</td>\n",
              "      <td>214.000000</td>\n",
              "    </tr>\n",
              "    <tr>\n",
              "      <th>mean</th>\n",
              "      <td>1.518365</td>\n",
              "      <td>13.407850</td>\n",
              "      <td>2.684533</td>\n",
              "      <td>1.444907</td>\n",
              "      <td>72.650935</td>\n",
              "      <td>0.497056</td>\n",
              "      <td>8.956963</td>\n",
              "      <td>0.175047</td>\n",
              "      <td>0.057009</td>\n",
              "    </tr>\n",
              "    <tr>\n",
              "      <th>std</th>\n",
              "      <td>0.003037</td>\n",
              "      <td>0.816604</td>\n",
              "      <td>1.442408</td>\n",
              "      <td>0.499270</td>\n",
              "      <td>0.774546</td>\n",
              "      <td>0.652192</td>\n",
              "      <td>1.423153</td>\n",
              "      <td>0.497219</td>\n",
              "      <td>0.097439</td>\n",
              "    </tr>\n",
              "    <tr>\n",
              "      <th>min</th>\n",
              "      <td>1.511150</td>\n",
              "      <td>10.730000</td>\n",
              "      <td>0.000000</td>\n",
              "      <td>0.290000</td>\n",
              "      <td>69.810000</td>\n",
              "      <td>0.000000</td>\n",
              "      <td>5.430000</td>\n",
              "      <td>0.000000</td>\n",
              "      <td>0.000000</td>\n",
              "    </tr>\n",
              "    <tr>\n",
              "      <th>25%</th>\n",
              "      <td>1.516522</td>\n",
              "      <td>12.907500</td>\n",
              "      <td>2.115000</td>\n",
              "      <td>1.190000</td>\n",
              "      <td>72.280000</td>\n",
              "      <td>0.122500</td>\n",
              "      <td>8.240000</td>\n",
              "      <td>0.000000</td>\n",
              "      <td>0.000000</td>\n",
              "    </tr>\n",
              "    <tr>\n",
              "      <th>50%</th>\n",
              "      <td>1.517680</td>\n",
              "      <td>13.300000</td>\n",
              "      <td>3.480000</td>\n",
              "      <td>1.360000</td>\n",
              "      <td>72.790000</td>\n",
              "      <td>0.555000</td>\n",
              "      <td>8.600000</td>\n",
              "      <td>0.000000</td>\n",
              "      <td>0.000000</td>\n",
              "    </tr>\n",
              "    <tr>\n",
              "      <th>75%</th>\n",
              "      <td>1.519157</td>\n",
              "      <td>13.825000</td>\n",
              "      <td>3.600000</td>\n",
              "      <td>1.630000</td>\n",
              "      <td>73.087500</td>\n",
              "      <td>0.610000</td>\n",
              "      <td>9.172500</td>\n",
              "      <td>0.000000</td>\n",
              "      <td>0.100000</td>\n",
              "    </tr>\n",
              "    <tr>\n",
              "      <th>max</th>\n",
              "      <td>1.533930</td>\n",
              "      <td>17.380000</td>\n",
              "      <td>4.490000</td>\n",
              "      <td>3.500000</td>\n",
              "      <td>75.410000</td>\n",
              "      <td>6.210000</td>\n",
              "      <td>16.190000</td>\n",
              "      <td>3.150000</td>\n",
              "      <td>0.510000</td>\n",
              "    </tr>\n",
              "  </tbody>\n",
              "</table>\n",
              "</div>\n",
              "      <button class=\"colab-df-convert\" onclick=\"convertToInteractive('df-f639b4e2-80be-44de-a8b6-f7885610b167')\"\n",
              "              title=\"Convert this dataframe to an interactive table.\"\n",
              "              style=\"display:none;\">\n",
              "        \n",
              "  <svg xmlns=\"http://www.w3.org/2000/svg\" height=\"24px\"viewBox=\"0 0 24 24\"\n",
              "       width=\"24px\">\n",
              "    <path d=\"M0 0h24v24H0V0z\" fill=\"none\"/>\n",
              "    <path d=\"M18.56 5.44l.94 2.06.94-2.06 2.06-.94-2.06-.94-.94-2.06-.94 2.06-2.06.94zm-11 1L8.5 8.5l.94-2.06 2.06-.94-2.06-.94L8.5 2.5l-.94 2.06-2.06.94zm10 10l.94 2.06.94-2.06 2.06-.94-2.06-.94-.94-2.06-.94 2.06-2.06.94z\"/><path d=\"M17.41 7.96l-1.37-1.37c-.4-.4-.92-.59-1.43-.59-.52 0-1.04.2-1.43.59L10.3 9.45l-7.72 7.72c-.78.78-.78 2.05 0 2.83L4 21.41c.39.39.9.59 1.41.59.51 0 1.02-.2 1.41-.59l7.78-7.78 2.81-2.81c.8-.78.8-2.07 0-2.86zM5.41 20L4 18.59l7.72-7.72 1.47 1.35L5.41 20z\"/>\n",
              "  </svg>\n",
              "      </button>\n",
              "      \n",
              "  <style>\n",
              "    .colab-df-container {\n",
              "      display:flex;\n",
              "      flex-wrap:wrap;\n",
              "      gap: 12px;\n",
              "    }\n",
              "\n",
              "    .colab-df-convert {\n",
              "      background-color: #E8F0FE;\n",
              "      border: none;\n",
              "      border-radius: 50%;\n",
              "      cursor: pointer;\n",
              "      display: none;\n",
              "      fill: #1967D2;\n",
              "      height: 32px;\n",
              "      padding: 0 0 0 0;\n",
              "      width: 32px;\n",
              "    }\n",
              "\n",
              "    .colab-df-convert:hover {\n",
              "      background-color: #E2EBFA;\n",
              "      box-shadow: 0px 1px 2px rgba(60, 64, 67, 0.3), 0px 1px 3px 1px rgba(60, 64, 67, 0.15);\n",
              "      fill: #174EA6;\n",
              "    }\n",
              "\n",
              "    [theme=dark] .colab-df-convert {\n",
              "      background-color: #3B4455;\n",
              "      fill: #D2E3FC;\n",
              "    }\n",
              "\n",
              "    [theme=dark] .colab-df-convert:hover {\n",
              "      background-color: #434B5C;\n",
              "      box-shadow: 0px 1px 3px 1px rgba(0, 0, 0, 0.15);\n",
              "      filter: drop-shadow(0px 1px 2px rgba(0, 0, 0, 0.3));\n",
              "      fill: #FFFFFF;\n",
              "    }\n",
              "  </style>\n",
              "\n",
              "      <script>\n",
              "        const buttonEl =\n",
              "          document.querySelector('#df-f639b4e2-80be-44de-a8b6-f7885610b167 button.colab-df-convert');\n",
              "        buttonEl.style.display =\n",
              "          google.colab.kernel.accessAllowed ? 'block' : 'none';\n",
              "\n",
              "        async function convertToInteractive(key) {\n",
              "          const element = document.querySelector('#df-f639b4e2-80be-44de-a8b6-f7885610b167');\n",
              "          const dataTable =\n",
              "            await google.colab.kernel.invokeFunction('convertToInteractive',\n",
              "                                                     [key], {});\n",
              "          if (!dataTable) return;\n",
              "\n",
              "          const docLinkHtml = 'Like what you see? Visit the ' +\n",
              "            '<a target=\"_blank\" href=https://colab.research.google.com/notebooks/data_table.ipynb>data table notebook</a>'\n",
              "            + ' to learn more about interactive tables.';\n",
              "          element.innerHTML = '';\n",
              "          dataTable['output_type'] = 'display_data';\n",
              "          await google.colab.output.renderOutput(dataTable, element);\n",
              "          const docLink = document.createElement('div');\n",
              "          docLink.innerHTML = docLinkHtml;\n",
              "          element.appendChild(docLink);\n",
              "        }\n",
              "      </script>\n",
              "    </div>\n",
              "  </div>\n",
              "  "
            ]
          },
          "metadata": {},
          "execution_count": 6
        }
      ]
    },
    {
      "cell_type": "code",
      "source": [
        "sns.factorplot('Type', data=df1, kind=\"count\",size = 5,aspect = 2)\n"
      ],
      "metadata": {
        "colab": {
          "base_uri": "https://localhost:8080/",
          "height": 386
        },
        "id": "Oqqa5Ll-H2Dx",
        "outputId": "948bf64b-13db-4e31-b52c-ad11d3da86f1"
      },
      "execution_count": 7,
      "outputs": [
        {
          "output_type": "execute_result",
          "data": {
            "text/plain": [
              "<seaborn.axisgrid.FacetGrid at 0x7f3fe0a33370>"
            ]
          },
          "metadata": {},
          "execution_count": 7
        },
        {
          "output_type": "display_data",
          "data": {
            "text/plain": [
              "<Figure size 720x360 with 1 Axes>"
            ],
            "image/png": "[encoded data removed]"
          },
          "metadata": {
            "needs_background": "light"
          }
        }
      ]
    },
    {
      "cell_type": "markdown",
      "source": [
        "### As shown in the graphs above, majority of the glass types are building_windows_float_processed and building_windows_non_float_processed, followed by headlamps\n"
      ],
      "metadata": {
        "id": "e80hK5bfH6v4"
      }
    },
    {
      "cell_type": "code",
      "source": [
        "df1.plot(kind='density', subplots=True, layout=(4,5), figsize=(13,20), sharex=False, sharey=False)\n",
        "plt.show()"
      ],
      "metadata": {
        "colab": {
          "base_uri": "https://localhost:8080/",
          "height": 570
        },
        "id": "wVIjvy24H4J1",
        "outputId": "06a82d10-b3e1-4b85-ac92-1b9616d8fe5d"
      },
      "execution_count": 8,
      "outputs": [
        {
          "output_type": "display_data",
          "data": {
            "text/plain": [
              "<Figure size 936x1440 with 20 Axes>"
            ],
            "image/png": "[encoded data removed]"
          },
          "metadata": {
            "needs_background": "light"
          }
        }
      ]
    },
    {
      "cell_type": "code",
      "source": [
        "df1.plot(kind='box', subplots=True, layout=(4,5), figsize=(13,20), sharex=False, sharey=False)\n",
        "plt.show()"
      ],
      "metadata": {
        "colab": {
          "base_uri": "https://localhost:8080/",
          "height": 571
        },
        "id": "ObomgwehIGLH",
        "outputId": "d89a562e-48d6-4437-ed98-3c914e44c63c"
      },
      "execution_count": 9,
      "outputs": [
        {
          "output_type": "display_data",
          "data": {
            "text/plain": [
              "<Figure size 936x1440 with 20 Axes>"
            ],
            "image/png": "[encoded data removed]"
          },
          "metadata": {
            "needs_background": "light"
          }
        }
      ]
    },
    {
      "cell_type": "markdown",
      "source": [
        "## 3 - Finding correlation between the variables in the data\n"
      ],
      "metadata": {
        "id": "rEydGZQaIMaH"
      }
    },
    {
      "cell_type": "code",
      "source": [
        "cor = df1.corr(method='pearson')\n"
      ],
      "metadata": {
        "id": "pL3RDe1LIKVu"
      },
      "execution_count": 10,
      "outputs": []
    },
    {
      "cell_type": "code",
      "source": [
        "cor.style.background_gradient(cmap='coolwarm')\n"
      ],
      "metadata": {
        "colab": {
          "base_uri": "https://localhost:8080/",
          "height": 331
        },
        "id": "EXzb4yFjISwe",
        "outputId": "e9c9e347-5376-4a19-da38-20f31ce7a66c"
      },
      "execution_count": 11,
      "outputs": [
        {
          "output_type": "execute_result",
          "data": {
            "text/plain": [
              "<pandas.io.formats.style.Styler at 0x7f3f894b7d90>"
            ],
            "text/html": [
              "<style type=\"text/css\">\n",
              "#T_909bf_row0_col0, #T_909bf_row1_col1, #T_909bf_row2_col2, #T_909bf_row3_col3, #T_909bf_row4_col4, #T_909bf_row5_col5, #T_909bf_row6_col6, #T_909bf_row7_col7, #T_909bf_row8_col8 {\n",
              "  background-color: #b40426;\n",
              "  color: #f1f1f1;\n",
              "}\n",
              "#T_909bf_row0_col1 {\n",
              "  background-color: #4e68d8;\n",
              "  color: #f1f1f1;\n",
              "}\n",
              "#T_909bf_row0_col2 {\n",
              "  background-color: #8caffe;\n",
              "  color: #000000;\n",
              "}\n",
              "#T_909bf_row0_col3 {\n",
              "  background-color: #4961d2;\n",
              "  color: #f1f1f1;\n",
              "}\n",
              "#T_909bf_row0_col4, #T_909bf_row1_col8, #T_909bf_row2_col1, #T_909bf_row2_col3, #T_909bf_row2_col6, #T_909bf_row2_col7, #T_909bf_row4_col0, #T_909bf_row6_col1, #T_909bf_row6_col5, #T_909bf_row7_col2 {\n",
              "  background-color: #3b4cc0;\n",
              "  color: #f1f1f1;\n",
              "}\n",
              "#T_909bf_row0_col5 {\n",
              "  background-color: #4055c8;\n",
              "  color: #f1f1f1;\n",
              "}\n",
              "#T_909bf_row0_col6 {\n",
              "  background-color: #df634e;\n",
              "  color: #f1f1f1;\n",
              "}\n",
              "#T_909bf_row0_col7 {\n",
              "  background-color: #a9c6fd;\n",
              "  color: #000000;\n",
              "}\n",
              "#T_909bf_row0_col8 {\n",
              "  background-color: #a2c1ff;\n",
              "  color: #000000;\n",
              "}\n",
              "#T_909bf_row1_col0, #T_909bf_row7_col6 {\n",
              "  background-color: #85a8fc;\n",
              "  color: #f1f1f1;\n",
              "}\n",
              "#T_909bf_row1_col2, #T_909bf_row7_col8 {\n",
              "  background-color: #688aef;\n",
              "  color: #f1f1f1;\n",
              "}\n",
              "#T_909bf_row1_col3 {\n",
              "  background-color: #cad8ef;\n",
              "  color: #000000;\n",
              "}\n",
              "#T_909bf_row1_col4 {\n",
              "  background-color: #a1c0ff;\n",
              "  color: #000000;\n",
              "}\n",
              "#T_909bf_row1_col5 {\n",
              "  background-color: #465ecf;\n",
              "  color: #f1f1f1;\n",
              "}\n",
              "#T_909bf_row1_col6 {\n",
              "  background-color: #5e7de7;\n",
              "  color: #f1f1f1;\n",
              "}\n",
              "#T_909bf_row1_col7 {\n",
              "  background-color: #e9d5cb;\n",
              "  color: #000000;\n",
              "}\n",
              "#T_909bf_row2_col0 {\n",
              "  background-color: #94b6ff;\n",
              "  color: #000000;\n",
              "}\n",
              "#T_909bf_row2_col4, #T_909bf_row2_col5 {\n",
              "  background-color: #8badfd;\n",
              "  color: #000000;\n",
              "}\n",
              "#T_909bf_row2_col8, #T_909bf_row4_col7 {\n",
              "  background-color: #90b2fe;\n",
              "  color: #000000;\n",
              "}\n",
              "#T_909bf_row3_col0, #T_909bf_row5_col6 {\n",
              "  background-color: #5572df;\n",
              "  color: #f1f1f1;\n",
              "}\n",
              "#T_909bf_row3_col1 {\n",
              "  background-color: #abc8fd;\n",
              "  color: #000000;\n",
              "}\n",
              "#T_909bf_row3_col2, #T_909bf_row5_col1 {\n",
              "  background-color: #3c4ec2;\n",
              "  color: #f1f1f1;\n",
              "}\n",
              "#T_909bf_row3_col4, #T_909bf_row7_col0 {\n",
              "  background-color: #afcafc;\n",
              "  color: #000000;\n",
              "}\n",
              "#T_909bf_row3_col5 {\n",
              "  background-color: #dadce0;\n",
              "  color: #000000;\n",
              "}\n",
              "#T_909bf_row3_col6 {\n",
              "  background-color: #6282ea;\n",
              "  color: #f1f1f1;\n",
              "}\n",
              "#T_909bf_row3_col7, #T_909bf_row7_col3 {\n",
              "  background-color: #f6bda2;\n",
              "  color: #000000;\n",
              "}\n",
              "#T_909bf_row3_col8 {\n",
              "  background-color: #6485ec;\n",
              "  color: #f1f1f1;\n",
              "}\n",
              "#T_909bf_row4_col1, #T_909bf_row4_col6, #T_909bf_row5_col0 {\n",
              "  background-color: #6e90f2;\n",
              "  color: #f1f1f1;\n",
              "}\n",
              "#T_909bf_row4_col2, #T_909bf_row6_col4 {\n",
              "  background-color: #81a4fb;\n",
              "  color: #f1f1f1;\n",
              "}\n",
              "#T_909bf_row4_col3 {\n",
              "  background-color: #a6c4fe;\n",
              "  color: #000000;\n",
              "}\n",
              "#T_909bf_row4_col5 {\n",
              "  background-color: #5875e1;\n",
              "  color: #f1f1f1;\n",
              "}\n",
              "#T_909bf_row4_col8 {\n",
              "  background-color: #5f7fe8;\n",
              "  color: #f1f1f1;\n",
              "}\n",
              "#T_909bf_row5_col2 {\n",
              "  background-color: #aac7fd;\n",
              "  color: #000000;\n",
              "}\n",
              "#T_909bf_row5_col3 {\n",
              "  background-color: #e8d6cc;\n",
              "  color: #000000;\n",
              "}\n",
              "#T_909bf_row5_col4 {\n",
              "  background-color: #84a7fc;\n",
              "  color: #f1f1f1;\n",
              "}\n",
              "#T_909bf_row5_col7 {\n",
              "  background-color: #9fbfff;\n",
              "  color: #000000;\n",
              "}\n",
              "#T_909bf_row5_col8 {\n",
              "  background-color: #779af7;\n",
              "  color: #f1f1f1;\n",
              "}\n",
              "#T_909bf_row6_col0 {\n",
              "  background-color: #dd5f4b;\n",
              "  color: #f1f1f1;\n",
              "}\n",
              "#T_909bf_row6_col2 {\n",
              "  background-color: #445acc;\n",
              "  color: #f1f1f1;\n",
              "}\n",
              "#T_909bf_row6_col3 {\n",
              "  background-color: #6a8bef;\n",
              "  color: #f1f1f1;\n",
              "}\n",
              "#T_909bf_row6_col7 {\n",
              "  background-color: #8fb1fe;\n",
              "  color: #000000;\n",
              "}\n",
              "#T_909bf_row6_col8 {\n",
              "  background-color: #9dbdff;\n",
              "  color: #000000;\n",
              "}\n",
              "#T_909bf_row7_col1 {\n",
              "  background-color: #d5dbe5;\n",
              "  color: #000000;\n",
              "}\n",
              "#T_909bf_row7_col4 {\n",
              "  background-color: #9abbff;\n",
              "  color: #000000;\n",
              "}\n",
              "#T_909bf_row7_col5 {\n",
              "  background-color: #7ea1fa;\n",
              "  color: #f1f1f1;\n",
              "}\n",
              "#T_909bf_row8_col0 {\n",
              "  background-color: #cdd9ec;\n",
              "  color: #000000;\n",
              "}\n",
              "#T_909bf_row8_col1 {\n",
              "  background-color: #4257c9;\n",
              "  color: #f1f1f1;\n",
              "}\n",
              "#T_909bf_row8_col2 {\n",
              "  background-color: #bbd1f8;\n",
              "  color: #000000;\n",
              "}\n",
              "#T_909bf_row8_col3 {\n",
              "  background-color: #96b7ff;\n",
              "  color: #000000;\n",
              "}\n",
              "#T_909bf_row8_col4, #T_909bf_row8_col7 {\n",
              "  background-color: #9bbcff;\n",
              "  color: #000000;\n",
              "}\n",
              "#T_909bf_row8_col5 {\n",
              "  background-color: #88abfd;\n",
              "  color: #000000;\n",
              "}\n",
              "#T_909bf_row8_col6 {\n",
              "  background-color: #bed2f6;\n",
              "  color: #000000;\n",
              "}\n",
              "</style>\n",
              "<table id=\"T_909bf_\" class=\"dataframe\">\n",
              "  <thead>\n",
              "    <tr>\n",
              "      <th class=\"blank level0\" >&nbsp;</th>\n",
              "      <th class=\"col_heading level0 col0\" >RI</th>\n",
              "      <th class=\"col_heading level0 col1\" >Na</th>\n",
              "      <th class=\"col_heading level0 col2\" >Mg</th>\n",
              "      <th class=\"col_heading level0 col3\" >Al</th>\n",
              "      <th class=\"col_heading level0 col4\" >Si</th>\n",
              "      <th class=\"col_heading level0 col5\" >K</th>\n",
              "      <th class=\"col_heading level0 col6\" >Ca</th>\n",
              "      <th class=\"col_heading level0 col7\" >Ba</th>\n",
              "      <th class=\"col_heading level0 col8\" >Fe</th>\n",
              "    </tr>\n",
              "  </thead>\n",
              "  <tbody>\n",
              "    <tr>\n",
              "      <th id=\"T_909bf_level0_row0\" class=\"row_heading level0 row0\" >RI</th>\n",
              "      <td id=\"T_909bf_row0_col0\" class=\"data row0 col0\" >1.000000</td>\n",
              "      <td id=\"T_909bf_row0_col1\" class=\"data row0 col1\" >-0.191885</td>\n",
              "      <td id=\"T_909bf_row0_col2\" class=\"data row0 col2\" >-0.122274</td>\n",
              "      <td id=\"T_909bf_row0_col3\" class=\"data row0 col3\" >-0.407326</td>\n",
              "      <td id=\"T_909bf_row0_col4\" class=\"data row0 col4\" >-0.542052</td>\n",
              "      <td id=\"T_909bf_row0_col5\" class=\"data row0 col5\" >-0.289833</td>\n",
              "      <td id=\"T_909bf_row0_col6\" class=\"data row0 col6\" >0.810403</td>\n",
              "      <td id=\"T_909bf_row0_col7\" class=\"data row0 col7\" >-0.000386</td>\n",
              "      <td id=\"T_909bf_row0_col8\" class=\"data row0 col8\" >0.143010</td>\n",
              "    </tr>\n",
              "    <tr>\n",
              "      <th id=\"T_909bf_level0_row1\" class=\"row_heading level0 row1\" >Na</th>\n",
              "      <td id=\"T_909bf_row1_col0\" class=\"data row1 col0\" >-0.191885</td>\n",
              "      <td id=\"T_909bf_row1_col1\" class=\"data row1 col1\" >1.000000</td>\n",
              "      <td id=\"T_909bf_row1_col2\" class=\"data row1 col2\" >-0.273732</td>\n",
              "      <td id=\"T_909bf_row1_col3\" class=\"data row1 col3\" >0.156794</td>\n",
              "      <td id=\"T_909bf_row1_col4\" class=\"data row1 col4\" >-0.069809</td>\n",
              "      <td id=\"T_909bf_row1_col5\" class=\"data row1 col5\" >-0.266087</td>\n",
              "      <td id=\"T_909bf_row1_col6\" class=\"data row1 col6\" >-0.275442</td>\n",
              "      <td id=\"T_909bf_row1_col7\" class=\"data row1 col7\" >0.326603</td>\n",
              "      <td id=\"T_909bf_row1_col8\" class=\"data row1 col8\" >-0.241346</td>\n",
              "    </tr>\n",
              "    <tr>\n",
              "      <th id=\"T_909bf_level0_row2\" class=\"row_heading level0 row2\" >Mg</th>\n",
              "      <td id=\"T_909bf_row2_col0\" class=\"data row2 col0\" >-0.122274</td>\n",
              "      <td id=\"T_909bf_row2_col1\" class=\"data row2 col1\" >-0.273732</td>\n",
              "      <td id=\"T_909bf_row2_col2\" class=\"data row2 col2\" >1.000000</td>\n",
              "      <td id=\"T_909bf_row2_col3\" class=\"data row2 col3\" >-0.481799</td>\n",
              "      <td id=\"T_909bf_row2_col4\" class=\"data row2 col4\" >-0.165927</td>\n",
              "      <td id=\"T_909bf_row2_col5\" class=\"data row2 col5\" >0.005396</td>\n",
              "      <td id=\"T_909bf_row2_col6\" class=\"data row2 col6\" >-0.443750</td>\n",
              "      <td id=\"T_909bf_row2_col7\" class=\"data row2 col7\" >-0.492262</td>\n",
              "      <td id=\"T_909bf_row2_col8\" class=\"data row2 col8\" >0.083060</td>\n",
              "    </tr>\n",
              "    <tr>\n",
              "      <th id=\"T_909bf_level0_row3\" class=\"row_heading level0 row3\" >Al</th>\n",
              "      <td id=\"T_909bf_row3_col0\" class=\"data row3 col0\" >-0.407326</td>\n",
              "      <td id=\"T_909bf_row3_col1\" class=\"data row3 col1\" >0.156794</td>\n",
              "      <td id=\"T_909bf_row3_col2\" class=\"data row3 col2\" >-0.481799</td>\n",
              "      <td id=\"T_909bf_row3_col3\" class=\"data row3 col3\" >1.000000</td>\n",
              "      <td id=\"T_909bf_row3_col4\" class=\"data row3 col4\" >-0.005524</td>\n",
              "      <td id=\"T_909bf_row3_col5\" class=\"data row3 col5\" >0.325958</td>\n",
              "      <td id=\"T_909bf_row3_col6\" class=\"data row3 col6\" >-0.259592</td>\n",
              "      <td id=\"T_909bf_row3_col7\" class=\"data row3 col7\" >0.479404</td>\n",
              "      <td id=\"T_909bf_row3_col8\" class=\"data row3 col8\" >-0.074402</td>\n",
              "    </tr>\n",
              "    <tr>\n",
              "      <th id=\"T_909bf_level0_row4\" class=\"row_heading level0 row4\" >Si</th>\n",
              "      <td id=\"T_909bf_row4_col0\" class=\"data row4 col0\" >-0.542052</td>\n",
              "      <td id=\"T_909bf_row4_col1\" class=\"data row4 col1\" >-0.069809</td>\n",
              "      <td id=\"T_909bf_row4_col2\" class=\"data row4 col2\" >-0.165927</td>\n",
              "      <td id=\"T_909bf_row4_col3\" class=\"data row4 col3\" >-0.005524</td>\n",
              "      <td id=\"T_909bf_row4_col4\" class=\"data row4 col4\" >1.000000</td>\n",
              "      <td id=\"T_909bf_row4_col5\" class=\"data row4 col5\" >-0.193331</td>\n",
              "      <td id=\"T_909bf_row4_col6\" class=\"data row4 col6\" >-0.208732</td>\n",
              "      <td id=\"T_909bf_row4_col7\" class=\"data row4 col7\" >-0.102151</td>\n",
              "      <td id=\"T_909bf_row4_col8\" class=\"data row4 col8\" >-0.094201</td>\n",
              "    </tr>\n",
              "    <tr>\n",
              "      <th id=\"T_909bf_level0_row5\" class=\"row_heading level0 row5\" >K</th>\n",
              "      <td id=\"T_909bf_row5_col0\" class=\"data row5 col0\" >-0.289833</td>\n",
              "      <td id=\"T_909bf_row5_col1\" class=\"data row5 col1\" >-0.266087</td>\n",
              "      <td id=\"T_909bf_row5_col2\" class=\"data row5 col2\" >0.005396</td>\n",
              "      <td id=\"T_909bf_row5_col3\" class=\"data row5 col3\" >0.325958</td>\n",
              "      <td id=\"T_909bf_row5_col4\" class=\"data row5 col4\" >-0.193331</td>\n",
              "      <td id=\"T_909bf_row5_col5\" class=\"data row5 col5\" >1.000000</td>\n",
              "      <td id=\"T_909bf_row5_col6\" class=\"data row5 col6\" >-0.317836</td>\n",
              "      <td id=\"T_909bf_row5_col7\" class=\"data row5 col7\" >-0.042618</td>\n",
              "      <td id=\"T_909bf_row5_col8\" class=\"data row5 col8\" >-0.007719</td>\n",
              "    </tr>\n",
              "    <tr>\n",
              "      <th id=\"T_909bf_level0_row6\" class=\"row_heading level0 row6\" >Ca</th>\n",
              "      <td id=\"T_909bf_row6_col0\" class=\"data row6 col0\" >0.810403</td>\n",
              "      <td id=\"T_909bf_row6_col1\" class=\"data row6 col1\" >-0.275442</td>\n",
              "      <td id=\"T_909bf_row6_col2\" class=\"data row6 col2\" >-0.443750</td>\n",
              "      <td id=\"T_909bf_row6_col3\" class=\"data row6 col3\" >-0.259592</td>\n",
              "      <td id=\"T_909bf_row6_col4\" class=\"data row6 col4\" >-0.208732</td>\n",
              "      <td id=\"T_909bf_row6_col5\" class=\"data row6 col5\" >-0.317836</td>\n",
              "      <td id=\"T_909bf_row6_col6\" class=\"data row6 col6\" >1.000000</td>\n",
              "      <td id=\"T_909bf_row6_col7\" class=\"data row6 col7\" >-0.112841</td>\n",
              "      <td id=\"T_909bf_row6_col8\" class=\"data row6 col8\" >0.124968</td>\n",
              "    </tr>\n",
              "    <tr>\n",
              "      <th id=\"T_909bf_level0_row7\" class=\"row_heading level0 row7\" >Ba</th>\n",
              "      <td id=\"T_909bf_row7_col0\" class=\"data row7 col0\" >-0.000386</td>\n",
              "      <td id=\"T_909bf_row7_col1\" class=\"data row7 col1\" >0.326603</td>\n",
              "      <td id=\"T_909bf_row7_col2\" class=\"data row7 col2\" >-0.492262</td>\n",
              "      <td id=\"T_909bf_row7_col3\" class=\"data row7 col3\" >0.479404</td>\n",
              "      <td id=\"T_909bf_row7_col4\" class=\"data row7 col4\" >-0.102151</td>\n",
              "      <td id=\"T_909bf_row7_col5\" class=\"data row7 col5\" >-0.042618</td>\n",
              "      <td id=\"T_909bf_row7_col6\" class=\"data row7 col6\" >-0.112841</td>\n",
              "      <td id=\"T_909bf_row7_col7\" class=\"data row7 col7\" >1.000000</td>\n",
              "      <td id=\"T_909bf_row7_col8\" class=\"data row7 col8\" >-0.058692</td>\n",
              "    </tr>\n",
              "    <tr>\n",
              "      <th id=\"T_909bf_level0_row8\" class=\"row_heading level0 row8\" >Fe</th>\n",
              "      <td id=\"T_909bf_row8_col0\" class=\"data row8 col0\" >0.143010</td>\n",
              "      <td id=\"T_909bf_row8_col1\" class=\"data row8 col1\" >-0.241346</td>\n",
              "      <td id=\"T_909bf_row8_col2\" class=\"data row8 col2\" >0.083060</td>\n",
              "      <td id=\"T_909bf_row8_col3\" class=\"data row8 col3\" >-0.074402</td>\n",
              "      <td id=\"T_909bf_row8_col4\" class=\"data row8 col4\" >-0.094201</td>\n",
              "      <td id=\"T_909bf_row8_col5\" class=\"data row8 col5\" >-0.007719</td>\n",
              "      <td id=\"T_909bf_row8_col6\" class=\"data row8 col6\" >0.124968</td>\n",
              "      <td id=\"T_909bf_row8_col7\" class=\"data row8 col7\" >-0.058692</td>\n",
              "      <td id=\"T_909bf_row8_col8\" class=\"data row8 col8\" >1.000000</td>\n",
              "    </tr>\n",
              "  </tbody>\n",
              "</table>\n"
            ]
          },
          "metadata": {},
          "execution_count": 11
        }
      ]
    },
    {
      "cell_type": "markdown",
      "source": [
        "As seen in the above graph, there is a high correlation exists between some of the variables. We can use PCA to reduce the hight correlated variables\n"
      ],
      "metadata": {
        "id": "LWudcAZaIXre"
      }
    },
    {
      "cell_type": "markdown",
      "source": [
        "## 4 - KNN\n"
      ],
      "metadata": {
        "id": "jYQSa7aQIbIp"
      }
    },
    {
      "cell_type": "markdown",
      "source": [
        "## 4.1 Finding optimal number of K\n"
      ],
      "metadata": {
        "id": "2tx-PkrOIg3X"
      }
    },
    {
      "cell_type": "code",
      "source": [
        "X = np.array(df1.iloc[:,3:5])\n",
        "y = np.array(df1['Type'])"
      ],
      "metadata": {
        "id": "wVn8qpPRIUf5"
      },
      "execution_count": 12,
      "outputs": []
    },
    {
      "cell_type": "code",
      "source": [
        "X_train, X_test, y_train, y_test = train_test_split(X, y, test_size=0.2, random_state=1, stratify=y)\n"
      ],
      "metadata": {
        "id": "J2MNfgHfIrb5"
      },
      "execution_count": 13,
      "outputs": []
    },
    {
      "cell_type": "code",
      "source": [
        "k_values = np.arange(1,25)\n",
        "train_accuracy = []\n",
        "test_accuracy = []"
      ],
      "metadata": {
        "id": "Y6mlhmioItiS"
      },
      "execution_count": 14,
      "outputs": []
    },
    {
      "cell_type": "code",
      "source": [
        "for i, k in enumerate(k_values):\n",
        "    knn = KNeighborsClassifier(n_neighbors=k)\n",
        "    knn.fit(X_train,y_train)\n",
        "    train_accuracy.append(knn.score(X_train, y_train))\n",
        "    test_accuracy.append(knn.score(X_test, y_test))"
      ],
      "metadata": {
        "id": "p3L-RP5fIvgD"
      },
      "execution_count": 15,
      "outputs": []
    },
    {
      "cell_type": "code",
      "source": [
        "plt.figure(figsize=[13,8])\n",
        "plt.plot(k_values, test_accuracy, label = 'Testing Accuracy')\n",
        "plt.plot(k_values, train_accuracy, label = 'Training Accuracy')\n",
        "plt.legend()\n",
        "plt.title('-value VS Accuracy')\n",
        "plt.xlabel('Number of Neighbors')\n",
        "plt.ylabel('Accuracy')\n",
        "plt.xticks(k_values)\n",
        "plt.show()"
      ],
      "metadata": {
        "colab": {
          "base_uri": "https://localhost:8080/",
          "height": 513
        },
        "id": "ko2PpEbMIz4n",
        "outputId": "85606760-5dbd-49bb-f257-53194987e84f"
      },
      "execution_count": 16,
      "outputs": [
        {
          "output_type": "display_data",
          "data": {
            "text/plain": [
              "<Figure size 936x576 with 1 Axes>"
            ],
            "image/png": "[encoded data removed]"
          },
          "metadata": {
            "needs_background": "light"
          }
        }
      ]
    },
    {
      "cell_type": "markdown",
      "source": [
        "## we can see that k=4 produces the most accurate results\n"
      ],
      "metadata": {
        "id": "HUI4_uSyJAOu"
      }
    },
    {
      "cell_type": "markdown",
      "source": [
        "## 4.2 Applying the algorithm\n"
      ],
      "metadata": {
        "id": "RVzyZ8UsJG5h"
      }
    },
    {
      "cell_type": "code",
      "source": [
        "knn = KNeighborsClassifier(n_neighbors=4)\n"
      ],
      "metadata": {
        "id": "jWbBWAnMI4zM"
      },
      "execution_count": 17,
      "outputs": []
    },
    {
      "cell_type": "code",
      "source": [
        "knn.fit(X_train, y_train)\n",
        "y_pred_KNeighborsClassifier = knn.predict(X_test)"
      ],
      "metadata": {
        "id": "2yTDVvcgJNB0"
      },
      "execution_count": 18,
      "outputs": []
    },
    {
      "cell_type": "code",
      "source": [
        "scores = []\n",
        "cv_scores = []"
      ],
      "metadata": {
        "id": "JEU2qVUJJP5j"
      },
      "execution_count": 19,
      "outputs": []
    },
    {
      "cell_type": "code",
      "source": [
        "score = accuracy_score(y_pred_KNeighborsClassifier,y_test)\n",
        "scores.append(score)"
      ],
      "metadata": {
        "id": "QscvcYI4JZj3"
      },
      "execution_count": 20,
      "outputs": []
    },
    {
      "cell_type": "code",
      "source": [
        "score_knn=cross_val_score(knn, X,y, cv=10)\n"
      ],
      "metadata": {
        "id": "Pw7uJx7oJhEk"
      },
      "execution_count": 21,
      "outputs": []
    },
    {
      "cell_type": "code",
      "source": [
        "score_knn.mean()\n"
      ],
      "metadata": {
        "colab": {
          "base_uri": "https://localhost:8080/"
        },
        "id": "1dqR-OedJi3F",
        "outputId": "24ff0a81-d3ad-4c5f-fadb-fbf34330debb"
      },
      "execution_count": 22,
      "outputs": [
        {
          "output_type": "execute_result",
          "data": {
            "text/plain": [
              "0.6127705627705629"
            ]
          },
          "metadata": {},
          "execution_count": 22
        }
      ]
    },
    {
      "cell_type": "code",
      "source": [
        "score_knn.std()*2\n"
      ],
      "metadata": {
        "colab": {
          "base_uri": "https://localhost:8080/"
        },
        "id": "5RBxuflaJli5",
        "outputId": "bd356a34-9f5e-48c5-eb82-bc0ee7a5dc11"
      },
      "execution_count": 23,
      "outputs": [
        {
          "output_type": "execute_result",
          "data": {
            "text/plain": [
              "0.23547117559816877"
            ]
          },
          "metadata": {},
          "execution_count": 23
        }
      ]
    },
    {
      "cell_type": "code",
      "source": [
        "cv_score = score_knn.mean()\n"
      ],
      "metadata": {
        "id": "bzfLH58tJnbZ"
      },
      "execution_count": 24,
      "outputs": []
    },
    {
      "cell_type": "code",
      "source": [
        "cv_scores.append(cv_score)\n"
      ],
      "metadata": {
        "id": "a0hAET4vJpCG"
      },
      "execution_count": 25,
      "outputs": []
    },
    {
      "cell_type": "code",
      "source": [
        "cv_scores\n"
      ],
      "metadata": {
        "colab": {
          "base_uri": "https://localhost:8080/"
        },
        "id": "veVZtEBdJq93",
        "outputId": "b114fa95-83b2-4012-94eb-91017cdd036e"
      },
      "execution_count": 26,
      "outputs": [
        {
          "output_type": "execute_result",
          "data": {
            "text/plain": [
              "[0.6127705627705629]"
            ]
          },
          "metadata": {},
          "execution_count": 26
        }
      ]
    },
    {
      "cell_type": "markdown",
      "source": [
        "# 5 - Conclusion\n"
      ],
      "metadata": {
        "id": "x2DisDBTJuHV"
      }
    },
    {
      "cell_type": "markdown",
      "source": [
        "### Support Vector Machine Accuracy: 0.60 (+/- 0.21)\n"
      ],
      "metadata": {
        "id": "Q7kvx6lZJ0KD"
      }
    },
    {
      "cell_type": "code",
      "source": [],
      "metadata": {
        "id": "Njc4VIaaJs_i"
      },
      "execution_count": null,
      "outputs": []
    }
  ]
}